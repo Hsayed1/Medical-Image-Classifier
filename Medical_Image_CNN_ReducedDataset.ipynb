{
  "nbformat": 4,
  "nbformat_minor": 0,
  "metadata": {
    "colab": {
      "provenance": [],
      "gpuType": "T4",
      "authorship_tag": "ABX9TyNKPkflzVQ3xe+wQ+KJ3NJZ",
      "include_colab_link": true
    },
    "kernelspec": {
      "name": "python3",
      "display_name": "Python 3"
    },
    "language_info": {
      "name": "python"
    },
    "accelerator": "GPU"
  },
  "cells": [
    {
      "cell_type": "markdown",
      "metadata": {
        "id": "view-in-github",
        "colab_type": "text"
      },
      "source": [
        "<a href=\"https://colab.research.google.com/github/Hsayed1/Medical-Mnist-Image-Classifier/blob/main/Medical_Image_CNN_ReducedDataset.ipynb\" target=\"_parent\"><img src=\"https://colab.research.google.com/assets/colab-badge.svg\" alt=\"Open In Colab\"/></a>"
      ]
    },
    {
      "cell_type": "code",
      "source": [
        "import zipfile\n",
        "import os\n",
        "import matplotlib.pyplot as plt\n",
        "import numpy as np\n",
        "import PIL\n",
        "import tensorflow as tf\n",
        "%matplotlib inline\n",
        "from tensorflow import keras\n",
        "from tensorflow.keras import layers\n",
        "from tensorflow.keras.models import Sequential\n",
        "from google.colab import drive\n",
        "import shutil\n",
        "from sklearn.metrics import classification_report\n",
        "import random\n",
        "from google.colab import drive\n",
        "from tensorflow.keras.layers import Dense, Flatten\n",
        "\"\"\"This code loads, preprocesses, and trains on the medical mnist dataset. In this file two experiments is done on a dataset of 9k images. Results have been reported.\"\"\""
      ],
      "metadata": {
        "id": "1Yt-vqAphc7P"
      },
      "execution_count": null,
      "outputs": []
    },
    {
      "cell_type": "code",
      "execution_count": null,
      "metadata": {
        "id": "5YNBY1chthEq"
      },
      "outputs": [],
      "source": [
        "from google.colab import drive\n",
        "drive.mount('/content/drive')"
      ]
    },
    {
      "cell_type": "code",
      "source": [
        "##importing data from drive\n",
        "zip_content = zipfile.ZipFile('/content/drive/MyDrive/medicalimages.zip', 'r')\n",
        "zip_content.extractall('data')\n",
        "zip_content.close()"
      ],
      "metadata": {
        "id": "MU0zVt9_tnS7"
      },
      "execution_count": null,
      "outputs": []
    },
    {
      "cell_type": "code",
      "source": [
        "data = '/content/data/medicalimages'\n",
        "batch_size = 32\n",
        "img_height = 150\n",
        "img_width = 150"
      ],
      "metadata": {
        "id": "ImVvggf9tsoA"
      },
      "execution_count": null,
      "outputs": []
    },
    {
      "cell_type": "code",
      "source": [
        "#randomly sample 1.5k images from each class because dataset was too large for high epochs.\n",
        "\n",
        "# Define the class names\n",
        "class_names = ['AbdomenCT', 'BreastMRI', 'CXR', 'ChestCT', 'Hand', 'HeadCT']\n",
        "\n",
        "# Define the target number of images per class\n",
        "images_per_class = 1500\n",
        "\n",
        "# Create a new directory for the reduced dataset\n",
        "reduced_data_path = '/content/data/reduced_medicalimages'\n",
        "os.makedirs(reduced_data_path, exist_ok=True)\n",
        "\n",
        "# Loop through each class\n",
        "for class_name in class_names:\n",
        "    class_path = os.path.join(data, class_name)\n",
        "    target_class_path = os.path.join(reduced_data_path, class_name)\n",
        "\n",
        "    os.makedirs(target_class_path, exist_ok=True)\n",
        "\n",
        "    # List all files in the class directory and shuffle the list to randomize it\n",
        "    class_files = os.listdir(class_path)\n",
        "    random.shuffle(class_files)\n",
        "\n",
        "    # Copy the desired number of randomly selected images (1500) from the class directory to the reduced dataset directory\n",
        "    for i in range(images_per_class):\n",
        "        file_name = class_files[i]\n",
        "        source_file_path = os.path.join(class_path, file_name)\n",
        "        target_file_path = os.path.join(target_class_path, file_name)\n",
        "        shutil.copyfile(source_file_path, target_file_path)"
      ],
      "metadata": {
        "id": "df9dyFprttTz"
      },
      "execution_count": null,
      "outputs": []
    },
    {
      "cell_type": "code",
      "source": [
        "#split into training data\n",
        "train = tf.keras.utils.image_dataset_from_directory(\n",
        "    reduced_data_path,\n",
        "    validation_split=0.3,  # 70% for training\n",
        "    subset=\"training\",\n",
        "    seed=123,\n",
        "    image_size=(img_height, img_width), #resize to 150x150\n",
        "    batch_size=batch_size\n",
        ")\n"
      ],
      "metadata": {
        "id": "HdPMgDikt6f-"
      },
      "execution_count": null,
      "outputs": []
    },
    {
      "cell_type": "code",
      "source": [
        "#split into validation\n",
        "val = tf.keras.utils.image_dataset_from_directory(\n",
        "    reduced_data_path,\n",
        "    validation_split=0.2,  # 20% for validation\n",
        "    subset=\"validation\",\n",
        "    seed=123,\n",
        "    image_size=(img_height, img_width), #resize to 150x150\n",
        "    batch_size=batch_size\n",
        ")"
      ],
      "metadata": {
        "id": "MtZe8jB1uPRf"
      },
      "execution_count": null,
      "outputs": []
    },
    {
      "cell_type": "code",
      "source": [
        "#split into testing\n",
        "test = tf.keras.utils.image_dataset_from_directory(\n",
        "    reduced_data_path,\n",
        "    validation_split=0.1,  # 10% for testing\n",
        "    subset=\"validation\",  #\n",
        "    seed=123,\n",
        "    image_size=(img_height, img_width), #resize to 150x150\n",
        "    batch_size=batch_size\n",
        ")"
      ],
      "metadata": {
        "id": "vj5twHRtuRbp"
      },
      "execution_count": null,
      "outputs": []
    },
    {
      "cell_type": "code",
      "source": [
        "num_classes = len(class_names)"
      ],
      "metadata": {
        "id": "NwTdYscVuZL9"
      },
      "execution_count": null,
      "outputs": []
    },
    {
      "cell_type": "code",
      "source": [
        "# Creating a Sequential model for image classification\n",
        "model = Sequential([\n",
        "    # Normalizing pixel values to the range [0,1]\n",
        "    layers.Rescaling(1./255, input_shape=(img_height, img_width, 3)),\n",
        "\n",
        "    # Convolutional layers with relu activation and max pooling for feature extraction\n",
        "    layers.Conv2D(32, 3, padding='same', activation='relu'),\n",
        "    layers.MaxPooling2D(),\n",
        "\n",
        "    layers.Conv2D(64, 3, padding='same', activation='relu'),\n",
        "    layers.MaxPooling2D(),\n",
        "\n",
        "    layers.Conv2D(128, 3, padding='same', activation='relu'),\n",
        "    layers.MaxPooling2D(),\n",
        "\n",
        "    # Flatten layer to prepare for dense layers\n",
        "    layers.Flatten(),\n",
        "\n",
        "    # Dense layers with relu activation and dropout for regularization\n",
        "    layers.Dense(256, activation='relu'),\n",
        "    layers.Dropout(0.5),\n",
        "\n",
        "    layers.Dense(128, activation='relu'),\n",
        "    layers.Dropout(0.5),\n",
        "\n",
        "    # Output layer with softmax activation for multi-class classification\n",
        "    layers.Dense(num_classes, activation='softmax')\n",
        "])"
      ],
      "metadata": {
        "id": "bMkONn-hub_S"
      },
      "execution_count": null,
      "outputs": []
    },
    {
      "cell_type": "code",
      "source": [
        "# Compiling the model with the Adam optimizer, Sparse Categorical Crossentropy loss,\n",
        "# and accuracy as the evaluation metric\n",
        "model.compile(optimizer='adam', loss=tf.keras.losses.SparseCategoricalCrossentropy(from_logits=True), metrics=['accuracy'])"
      ],
      "metadata": {
        "id": "1MAMoEj4ufyk"
      },
      "execution_count": null,
      "outputs": []
    },
    {
      "cell_type": "code",
      "source": [
        "model.summary()"
      ],
      "metadata": {
        "id": "0mbcxEiGuity"
      },
      "execution_count": null,
      "outputs": []
    },
    {
      "cell_type": "code",
      "source": [
        "#This original cnn was tested in the final project file however due to the large dataset high epochs could not be done.\n",
        "#Professor recommended to try out 10k image dataset with high epochs for an experiment. Results have been reported\n",
        "epochs= 20\n",
        "history = model.fit(\n",
        "  train,\n",
        "  validation_data=val,\n",
        "  epochs=epochs\n",
        ")"
      ],
      "metadata": {
        "id": "V1zmn0a2ukdV"
      },
      "execution_count": null,
      "outputs": []
    },
    {
      "cell_type": "code",
      "source": [
        "# Extracting and plotting accuracy and loss metrics from the training history\n",
        "acc = history.history['accuracy']\n",
        "print(\"accuracy: \", acc)\n",
        "val_acc = history.history['val_accuracy']\n",
        "print(\"val accuracy: \", val_acc)\n",
        "\n",
        "loss = history.history['loss']\n",
        "print(\"loss: \", loss)\n",
        "\n",
        "val_loss = history.history['val_loss']\n",
        "print(\"val loss: \", val_loss)\n",
        "\n",
        "epochs_range = range(epochs)\n",
        "\n",
        "# Plotting accuracy\n",
        "plt.figure(figsize=(8, 8))\n",
        "plt.subplot(1, 2, 1)\n",
        "plt.plot(epochs_range, acc, label='Training Accuracy')\n",
        "plt.plot(epochs_range, val_acc, label='Validation Accuracy')\n",
        "plt.legend(loc='lower right')\n",
        "plt.title('Training and Validation Accuracy')\n",
        "\n",
        "# Plotting loss\n",
        "plt.subplot(1, 2, 2)\n",
        "plt.plot(epochs_range, loss, label='Training Loss')\n",
        "plt.plot(epochs_range, val_loss, label='Validation Loss')\n",
        "plt.legend(loc='upper right')\n",
        "plt.title('Training and Validation Loss')\n",
        "\n",
        "plt.show()\n"
      ],
      "metadata": {
        "id": "0Cc-TK9auncL"
      },
      "execution_count": null,
      "outputs": []
    },
    {
      "cell_type": "code",
      "source": [
        "# Evaluate the model on the test set\n",
        "test_results = model.evaluate(test)\n",
        "\n",
        "# Print the test results (loss and accuracy)\n",
        "print(\"Test Loss:\", test_results[0])\n",
        "print(\"Test Accuracy:\", test_results[1])"
      ],
      "metadata": {
        "id": "4x480InCuqMu"
      },
      "execution_count": null,
      "outputs": []
    },
    {
      "cell_type": "code",
      "source": [
        "# Create resnet Sequential model\n",
        "resnet = Sequential()\n",
        "\n",
        "# Load ResNet50 model pre-trained on ImageNet data\n",
        "pretrained = tf.keras.applications.ResNet50(include_top=False, input_shape=(150, 150, 3), pooling='avg', classes=6, weights='imagenet')\n",
        "\n",
        "# Freeze the weights of the pre-trained ResNet50 layers to prevent further training\n",
        "for layer in pretrained.layers:\n",
        "    layer.trainable = False\n",
        "\n",
        "# Add the pre-trained ResNet50 model to the Sequential model\n",
        "resnet.add(pretrained)\n",
        "\n",
        "# Flatten the output of the ResNet50 model\n",
        "resnet.add(Flatten())\n",
        "\n",
        "# Add a fully connected layer with 128 units and ReLU activation\n",
        "resnet.add(Dense(128, activation='relu'))\n",
        "\n",
        "# Add the output layer with 6 and softmax activation\n",
        "resnet.add(Dense(6, activation='softmax'))\n"
      ],
      "metadata": {
        "id": "mLuPheGxusww"
      },
      "execution_count": null,
      "outputs": []
    },
    {
      "cell_type": "code",
      "source": [
        "resnet.summary()"
      ],
      "metadata": {
        "id": "GtFbAO4LeULk"
      },
      "execution_count": null,
      "outputs": []
    },
    {
      "cell_type": "code",
      "source": [
        "resnet.compile(optimizer='adam', loss=tf.keras.losses.SparseCategoricalCrossentropy(from_logits=True), metrics=['accuracy'])"
      ],
      "metadata": {
        "id": "qCcCt9KneVcy"
      },
      "execution_count": null,
      "outputs": []
    },
    {
      "cell_type": "code",
      "source": [
        "epochs=20\n",
        "history = resnet.fit(\n",
        "  train,\n",
        "  validation_data=val,\n",
        "  epochs=epochs\n",
        ")"
      ],
      "metadata": {
        "id": "dnNDZE21eXrm"
      },
      "execution_count": null,
      "outputs": []
    },
    {
      "cell_type": "code",
      "source": [
        "# Extracting and plotting accuracy and loss metrics from the training history\n",
        "acc = history.history['accuracy']\n",
        "print(\"accuracy: \", acc)\n",
        "val_acc = history.history['val_accuracy']\n",
        "print(\"val accuracy: \", val_acc)\n",
        "\n",
        "loss = history.history['loss']\n",
        "print(\"loss: \", loss)\n",
        "\n",
        "val_loss = history.history['val_loss']\n",
        "print(\"val loss: \", val_loss)\n",
        "\n",
        "epochs_range = range(epochs)\n",
        "\n",
        "# Plotting accuracy\n",
        "plt.figure(figsize=(8, 8))\n",
        "plt.subplot(1, 2, 1)\n",
        "plt.plot(epochs_range, acc, label='Training Accuracy')\n",
        "plt.plot(epochs_range, val_acc, label='Validation Accuracy')\n",
        "plt.legend(loc='lower right')\n",
        "plt.title('Training and Validation Accuracy')\n",
        "\n",
        "# Plotting loss\n",
        "plt.subplot(1, 2, 2)\n",
        "plt.plot(epochs_range, loss, label='Training Loss')\n",
        "plt.plot(epochs_range, val_loss, label='Validation Loss')\n",
        "plt.legend(loc='upper right')\n",
        "plt.title('Training and Validation Loss')\n",
        "\n",
        "plt.show()\n"
      ],
      "metadata": {
        "id": "PmoXl7ykecRN"
      },
      "execution_count": null,
      "outputs": []
    },
    {
      "cell_type": "code",
      "source": [
        "# Evaluate the model on the test set\n",
        "test_results = resnet.evaluate(test)\n",
        "\n",
        "# Print the test results (loss and accuracy)\n",
        "print(\"Test Loss:\", test_results[0])\n",
        "print(\"Test Accuracy:\", test_results[1])"
      ],
      "metadata": {
        "id": "8jiRvWkOeetU"
      },
      "execution_count": null,
      "outputs": []
    }
  ]
}