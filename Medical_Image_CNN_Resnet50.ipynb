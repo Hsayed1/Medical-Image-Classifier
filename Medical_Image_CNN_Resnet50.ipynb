{
  "nbformat": 4,
  "nbformat_minor": 0,
  "metadata": {
    "colab": {
      "provenance": [],
      "authorship_tag": "ABX9TyMVFkx9Ttdrt/5RlopNUiNr",
      "include_colab_link": true
    },
    "kernelspec": {
      "name": "python3",
      "display_name": "Python 3"
    },
    "language_info": {
      "name": "python"
    }
  },
  "cells": [
    {
      "cell_type": "markdown",
      "metadata": {
        "id": "view-in-github",
        "colab_type": "text"
      },
      "source": [
        "<a href=\"https://colab.research.google.com/github/Hsayed1/Medical-Mnist-Image-Classifier/blob/main/Medical_Image_CNN_Resnet50.ipynb\" target=\"_parent\"><img src=\"https://colab.research.google.com/assets/colab-badge.svg\" alt=\"Open In Colab\"/></a>"
      ]
    },
    {
      "cell_type": "code",
      "source": [
        "import zipfile\n",
        "import os\n",
        "import matplotlib.pyplot as plt\n",
        "import numpy as np\n",
        "import PIL\n",
        "import tensorflow as tf\n",
        "%matplotlib inline\n",
        "from tensorflow import keras\n",
        "from tensorflow.keras import layers\n",
        "from tensorflow.keras.models import Sequential\n",
        "from google.colab import drive\n",
        "import shutil\n",
        "from sklearn.metrics import classification_report\n",
        "import random\n",
        "from google.colab import drive\n",
        "from tensorflow.keras.layers import Dense, Flatten\n",
        "\"\"\"This code loads, preprocesses, and trains a resnet model on the medical mnist dataset. 2 experiments were tried in this file and have been reported.\"\"\""
      ],
      "metadata": {
        "id": "5Q1e0HZAn14H"
      },
      "execution_count": null,
      "outputs": []
    },
    {
      "cell_type": "code",
      "execution_count": null,
      "metadata": {
        "id": "58o96sB8nKC5"
      },
      "outputs": [],
      "source": [
        "drive.mount('/content/drive')"
      ]
    },
    {
      "cell_type": "code",
      "source": [
        "##importing data from drive\n",
        "zip_content = zipfile.ZipFile('/content/drive/MyDrive/medicalimages.zip', 'r')\n",
        "zip_content.extractall('data')\n",
        "zip_content.close()"
      ],
      "metadata": {
        "id": "vTuaTceMnyVU"
      },
      "execution_count": null,
      "outputs": []
    },
    {
      "cell_type": "code",
      "source": [
        "data = '/content/data/medicalimages'\n",
        "batch_size = 32\n",
        "img_height = 150\n",
        "img_width = 150"
      ],
      "metadata": {
        "id": "nia8TtZWnzGx"
      },
      "execution_count": null,
      "outputs": []
    },
    {
      "cell_type": "code",
      "source": [
        "#randomly sample 5k images from each class because dataset was too large.\n",
        "\n",
        "# Define the class names\n",
        "class_names = ['AbdomenCT', 'BreastMRI', 'CXR', 'ChestCT', 'Hand', 'HeadCT']\n",
        "\n",
        "# Define the target number of images per class\n",
        "images_per_class = 5000\n",
        "\n",
        "# Create a new directory for the reduced dataset\n",
        "reduced_data_path = '/content/data/reduced_medicalimages'\n",
        "os.makedirs(reduced_data_path, exist_ok=True)\n",
        "\n",
        "# Loop through each class\n",
        "for class_name in class_names:\n",
        "    class_path = os.path.join(data, class_name)\n",
        "    target_class_path = os.path.join(reduced_data_path, class_name)\n",
        "\n",
        "    os.makedirs(target_class_path, exist_ok=True)\n",
        "\n",
        "    # List all files in the class directory and shuffle the list to randomize it\n",
        "    class_files = os.listdir(class_path)\n",
        "    random.shuffle(class_files)\n",
        "\n",
        "    # Copy the desired number of randomly selected images (5,000) from the class directory to the reduced dataset directory\n",
        "    for i in range(images_per_class):\n",
        "        file_name = class_files[i]\n",
        "        source_file_path = os.path.join(class_path, file_name)\n",
        "        target_file_path = os.path.join(target_class_path, file_name)\n",
        "        shutil.copyfile(source_file_path, target_file_path)"
      ],
      "metadata": {
        "id": "xIqqv7hVn5Yi"
      },
      "execution_count": null,
      "outputs": []
    },
    {
      "cell_type": "code",
      "source": [
        "#split into training data\n",
        "train = tf.keras.utils.image_dataset_from_directory(\n",
        "    reduced_data_path,\n",
        "    validation_split=0.3,  # 70% for training\n",
        "    subset=\"training\",\n",
        "    seed=123,\n",
        "    image_size=(img_height, img_width), #resize to 150x150\n",
        "    batch_size=batch_size\n",
        ")\n"
      ],
      "metadata": {
        "id": "XLPpGqcsn-yl"
      },
      "execution_count": null,
      "outputs": []
    },
    {
      "cell_type": "code",
      "source": [
        "#split into validation\n",
        "val = tf.keras.utils.image_dataset_from_directory(\n",
        "    reduced_data_path,\n",
        "    validation_split=0.2,  # 20% for validation\n",
        "    subset=\"validation\",\n",
        "    seed=123,\n",
        "    image_size=(img_height, img_width), #resize to 150x150\n",
        "    batch_size=batch_size\n",
        ")"
      ],
      "metadata": {
        "id": "mWeJuVm-oM34"
      },
      "execution_count": null,
      "outputs": []
    },
    {
      "cell_type": "code",
      "source": [
        "#split into testing\n",
        "test = tf.keras.utils.image_dataset_from_directory(\n",
        "    reduced_data_path,\n",
        "    validation_split=0.1,  # 10% for testing\n",
        "    subset=\"validation\",\n",
        "    seed=123,\n",
        "    image_size=(img_height, img_width), #resize to 150x150\n",
        "    batch_size=batch_size\n",
        ")"
      ],
      "metadata": {
        "id": "HwFO0RVGgE20"
      },
      "execution_count": null,
      "outputs": []
    },
    {
      "cell_type": "code",
      "source": [
        "# Create Sequential model\n",
        "resnet = Sequential()\n",
        "\n",
        "# Load ResNet50 model pre-trained on ImageNet data\n",
        "pretrained = tf.keras.applications.ResNet50(include_top=False, input_shape=(150, 150, 3), pooling='avg', classes=6, weights='imagenet')\n",
        "\n",
        "# Freeze the weights of the pre-trained ResNet50 layers to prevent further training\n",
        "for layer in pretrained.layers:\n",
        "    layer.trainable = False\n",
        "\n",
        "# Add the pre-trained ResNet50 model to the Sequential model\n",
        "resnet.add(pretrained)\n",
        "\n",
        "# Flatten the output of the ResNet50 model\n",
        "resnet.add(Flatten())\n",
        "\n",
        "# Add a fully connected layer with 128 units and ReLU activation\n",
        "resnet.add(Dense(128, activation='relu'))\n",
        "\n",
        "# Add the output layer with 6 and softmax activation\n",
        "resnet.add(Dense(6, activation='softmax'))\n"
      ],
      "metadata": {
        "id": "2NnIV5kSoX9r"
      },
      "execution_count": null,
      "outputs": []
    },
    {
      "cell_type": "code",
      "source": [
        "resnet.summary()"
      ],
      "metadata": {
        "id": "7LXletwMo2wO"
      },
      "execution_count": null,
      "outputs": []
    },
    {
      "cell_type": "code",
      "source": [
        "resnet.compile(optimizer='adam', loss=tf.keras.losses.SparseCategoricalCrossentropy(from_logits=True), metrics=['accuracy'])"
      ],
      "metadata": {
        "id": "3JmoIvnAo4uz"
      },
      "execution_count": null,
      "outputs": []
    },
    {
      "cell_type": "code",
      "source": [
        "#This test was originally done with 10 epochs however Colab failed around the 5th epoch. After simplifying the model a bit it succeeded with 6. Results have been reported\n",
        "epochs=6\n",
        "history = resnet.fit(\n",
        "  train,\n",
        "  validation_data=val,\n",
        "  epochs=epochs\n",
        ")"
      ],
      "metadata": {
        "id": "fxVL2Cdgo_ug"
      },
      "execution_count": null,
      "outputs": []
    },
    {
      "cell_type": "code",
      "source": [
        "# Extracting and plotting accuracy and loss metrics from the training history\n",
        "acc = history.history['accuracy']\n",
        "print(\"accuracy: \", acc)\n",
        "val_acc = history.history['val_accuracy']\n",
        "print(\"val accuracy: \", val_acc)\n",
        "\n",
        "loss = history.history['loss']\n",
        "print(\"loss: \", loss)\n",
        "\n",
        "val_loss = history.history['val_loss']\n",
        "print(\"val loss: \", val_loss)\n",
        "\n",
        "epochs_range = range(epochs)\n",
        "\n",
        "# Plotting accuracy\n",
        "plt.figure(figsize=(8, 8))\n",
        "plt.subplot(1, 2, 1)\n",
        "plt.plot(epochs_range, acc, label='Training Accuracy')\n",
        "plt.plot(epochs_range, val_acc, label='Validation Accuracy')\n",
        "plt.legend(loc='lower right')\n",
        "plt.title('Training and Validation Accuracy')\n",
        "\n",
        "# Plotting loss\n",
        "plt.subplot(1, 2, 2)\n",
        "plt.plot(epochs_range, loss, label='Training Loss')\n",
        "plt.plot(epochs_range, val_loss, label='Validation Loss')\n",
        "plt.legend(loc='upper right')\n",
        "plt.title('Training and Validation Loss')\n",
        "\n",
        "plt.show()\n"
      ],
      "metadata": {
        "id": "A7tcg74ppQ3F"
      },
      "execution_count": null,
      "outputs": []
    },
    {
      "cell_type": "code",
      "source": [
        "# Evaluate the model on the test set\n",
        "test_results = resnet.evaluate(test)\n",
        "\n",
        "# Print the test results (loss and accuracy)\n",
        "print(\"Test Loss:\", test_results[0])\n",
        "print(\"Test Accuracy:\", test_results[1])"
      ],
      "metadata": {
        "id": "MGJnY7nAhNFL"
      },
      "execution_count": null,
      "outputs": []
    }
  ]
}