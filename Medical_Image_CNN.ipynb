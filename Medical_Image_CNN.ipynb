{
  "cells": [
    {
      "cell_type": "markdown",
      "metadata": {
        "id": "view-in-github",
        "colab_type": "text"
      },
      "source": [
        "<a href=\"https://colab.research.google.com/github/Hsayed1/Medical-Mnist-Image-Classifier/blob/main/Medical_Image_CNN.ipynb\" target=\"_parent\"><img src=\"https://colab.research.google.com/assets/colab-badge.svg\" alt=\"Open In Colab\"/></a>"
      ]
    },
    {
      "cell_type": "code",
      "execution_count": null,
      "metadata": {
        "colab": {
          "base_uri": "https://localhost:8080/",
          "height": 35
        },
        "id": "ddvoNdzmRsn1",
        "outputId": "386b42bf-72c3-4bf4-af5f-90ea7f0ad5cc"
      },
      "outputs": [
        {
          "output_type": "execute_result",
          "data": {
            "text/plain": [
              "'This code loads, preprocesses, and trains a cnn on the medical mnist dataset. 4 experiments were tried in this file and have been reported. Two cnn models were used'"
            ],
            "application/vnd.google.colaboratory.intrinsic+json": {
              "type": "string"
            }
          },
          "metadata": {},
          "execution_count": 1
        }
      ],
      "source": [
        "import zipfile\n",
        "import os\n",
        "import matplotlib.pyplot as plt\n",
        "import numpy as np\n",
        "import PIL\n",
        "import tensorflow as tf\n",
        "%matplotlib inline\n",
        "from tensorflow import keras\n",
        "from tensorflow.keras import layers\n",
        "from tensorflow.keras.models import Sequential\n",
        "from google.colab import drive\n",
        "import shutil\n",
        "from sklearn.metrics import classification_report\n",
        "import random\n",
        "\"\"\"This code loads, preprocesses, and trains a cnn on the medical mnist dataset. 4 experiments were tried in this file and have been reported. Two cnn models were used\"\"\""
      ]
    },
    {
      "cell_type": "code",
      "execution_count": null,
      "metadata": {
        "colab": {
          "base_uri": "https://localhost:8080/"
        },
        "id": "Zro3BDKE_Qmj",
        "outputId": "42750ba6-6114-4c8b-b869-b02e84b6025d"
      },
      "outputs": [
        {
          "output_type": "stream",
          "name": "stdout",
          "text": [
            "Drive already mounted at /content/drive; to attempt to forcibly remount, call drive.mount(\"/content/drive\", force_remount=True).\n"
          ]
        }
      ],
      "source": [
        "drive.mount('/content/drive')"
      ]
    },
    {
      "cell_type": "code",
      "execution_count": null,
      "metadata": {
        "id": "VBVBcWOWA-aL"
      },
      "outputs": [],
      "source": [
        "##importing data from drive\n",
        "zip_content = zipfile.ZipFile('/content/drive/MyDrive/medicalimages.zip', 'r')\n",
        "zip_content.extractall('data')\n",
        "zip_content.close()"
      ]
    },
    {
      "cell_type": "code",
      "execution_count": null,
      "metadata": {
        "id": "uKzBR5d1E_YQ"
      },
      "outputs": [],
      "source": [
        "data = '/content/data/medicalimages'\n",
        "batch_size = 32\n",
        "img_height = 150\n",
        "img_width = 150"
      ]
    },
    {
      "cell_type": "code",
      "execution_count": null,
      "metadata": {
        "id": "_R_k5KbgcRIV"
      },
      "outputs": [],
      "source": [
        "#randomly sample 5k images from each class because dataset was too large.\n",
        "\n",
        "# Define the class names\n",
        "class_names = ['AbdomenCT', 'BreastMRI', 'CXR', 'ChestCT', 'Hand', 'HeadCT']\n",
        "\n",
        "# Define the target number of images per class\n",
        "images_per_class = 5000\n",
        "\n",
        "# Create a new directory for the reduced dataset\n",
        "reduced_data_path = '/content/data/reduced_medicalimages'\n",
        "os.makedirs(reduced_data_path, exist_ok=True)\n",
        "\n",
        "# Loop through each class\n",
        "for class_name in class_names:\n",
        "    class_path = os.path.join(data, class_name)\n",
        "    target_class_path = os.path.join(reduced_data_path, class_name)\n",
        "\n",
        "    os.makedirs(target_class_path, exist_ok=True)\n",
        "\n",
        "    # List all files in the class directory and shuffle the list to randomize it\n",
        "    class_files = os.listdir(class_path)\n",
        "    random.shuffle(class_files)\n",
        "\n",
        "    # Copy the desired number of randomly selected images (5,000) from the class directory to the reduced dataset directory\n",
        "    for i in range(images_per_class):\n",
        "        file_name = class_files[i]\n",
        "        source_file_path = os.path.join(class_path, file_name)\n",
        "        target_file_path = os.path.join(target_class_path, file_name)\n",
        "        shutil.copyfile(source_file_path, target_file_path)"
      ]
    },
    {
      "cell_type": "code",
      "execution_count": null,
      "metadata": {
        "colab": {
          "base_uri": "https://localhost:8080/"
        },
        "id": "uOjQi5G1Gw6B",
        "outputId": "b41ff661-2407-4b67-82fc-c7162c988b03"
      },
      "outputs": [
        {
          "output_type": "stream",
          "name": "stdout",
          "text": [
            "Found 30000 files belonging to 6 classes.\n",
            "Using 21000 files for training.\n"
          ]
        }
      ],
      "source": [
        "#split into training data\n",
        "train = tf.keras.utils.image_dataset_from_directory(\n",
        "    reduced_data_path,\n",
        "    validation_split=0.3,  # 70% for training\n",
        "    subset=\"training\",\n",
        "    seed=123,\n",
        "    image_size=(img_height, img_width), #resize to 150x150\n",
        "    batch_size=batch_size\n",
        ")\n"
      ]
    },
    {
      "cell_type": "code",
      "execution_count": null,
      "metadata": {
        "colab": {
          "base_uri": "https://localhost:8080/"
        },
        "id": "6nKt8ZlaHBIr",
        "outputId": "bdf938bb-b418-4790-f1a7-826882cab9a8"
      },
      "outputs": [
        {
          "output_type": "stream",
          "name": "stdout",
          "text": [
            "Found 30000 files belonging to 6 classes.\n",
            "Using 6000 files for validation.\n"
          ]
        }
      ],
      "source": [
        "#split into validation\n",
        "val = tf.keras.utils.image_dataset_from_directory(\n",
        "    reduced_data_path,\n",
        "    validation_split=0.2,  # 20% for validation\n",
        "    subset=\"validation\",\n",
        "    seed=123,\n",
        "    image_size=(img_height, img_width), #resize to 150x150\n",
        "    batch_size=batch_size\n",
        ")"
      ]
    },
    {
      "cell_type": "code",
      "execution_count": null,
      "metadata": {
        "colab": {
          "base_uri": "https://localhost:8080/"
        },
        "id": "19_u33bsekcI",
        "outputId": "1ef48868-191c-4953-9eb1-8b7f9aab017b"
      },
      "outputs": [
        {
          "output_type": "stream",
          "name": "stdout",
          "text": [
            "Found 30000 files belonging to 6 classes.\n",
            "Using 3000 files for validation.\n"
          ]
        }
      ],
      "source": [
        "#split into testing\n",
        "test = tf.keras.utils.image_dataset_from_directory(\n",
        "    reduced_data_path,\n",
        "    validation_split=0.1,  # 10% for testing\n",
        "    subset=\"validation\",  #\n",
        "    seed=123,\n",
        "    image_size=(img_height, img_width), #resize to 150x150\n",
        "    batch_size=batch_size\n",
        ")"
      ]
    },
    {
      "cell_type": "code",
      "execution_count": null,
      "metadata": {
        "id": "bAhDNi5V3tVF"
      },
      "outputs": [],
      "source": [
        "num_classes = len(class_names)"
      ]
    },
    {
      "cell_type": "code",
      "execution_count": null,
      "metadata": {
        "id": "4I7ivcKxPl7P"
      },
      "outputs": [],
      "source": [
        "\n",
        "# Creating a Sequential model for image classification\n",
        "model = Sequential([\n",
        "    # Normalizing pixel values to the range [0,1]\n",
        "    layers.Rescaling(1./255, input_shape=(img_height, img_width, 3)),\n",
        "\n",
        "    # Convolutional layers with relu activation and max pooling for feature extraction\n",
        "    layers.Conv2D(32, 3, padding='same', activation='relu'),\n",
        "    layers.MaxPooling2D(),\n",
        "\n",
        "    layers.Conv2D(64, 3, padding='same', activation='relu'),\n",
        "    layers.MaxPooling2D(),\n",
        "\n",
        "    layers.Conv2D(128, 3, padding='same', activation='relu'),\n",
        "    layers.MaxPooling2D(),\n",
        "\n",
        "    # Flatten layer to prepare for dense layers\n",
        "    layers.Flatten(),\n",
        "\n",
        "    # Dense layers with relu activation and dropout for regularization\n",
        "    layers.Dense(256, activation='relu'),\n",
        "    layers.Dropout(0.5),\n",
        "\n",
        "    layers.Dense(128, activation='relu'),\n",
        "    layers.Dropout(0.5),\n",
        "\n",
        "    # Output layer with softmax activation for multi-class classification\n",
        "    layers.Dense(num_classes, activation='softmax')\n",
        "])\n"
      ]
    },
    {
      "cell_type": "code",
      "execution_count": null,
      "metadata": {
        "id": "5CaSOlFLQP09"
      },
      "outputs": [],
      "source": [
        "# Compiling the model with the Adam optimizer, Sparse Categorical Crossentropy loss,\n",
        "# and accuracy as the evaluation metric\n",
        "model.compile(optimizer='adam', loss=tf.keras.losses.SparseCategoricalCrossentropy(from_logits=True), metrics=['accuracy']\n",
        ")"
      ]
    },
    {
      "cell_type": "code",
      "execution_count": null,
      "metadata": {
        "colab": {
          "base_uri": "https://localhost:8080/"
        },
        "id": "TBQcBEngQREW",
        "outputId": "9a742ad6-09be-4960-da45-d2f2e49a8529"
      },
      "outputs": [
        {
          "name": "stdout",
          "output_type": "stream",
          "text": [
            "Model: \"sequential\"\n",
            "_________________________________________________________________\n",
            " Layer (type)                Output Shape              Param #   \n",
            "=================================================================\n",
            " rescaling (Rescaling)       (None, 150, 150, 3)       0         \n",
            "                                                                 \n",
            " conv2d (Conv2D)             (None, 150, 150, 32)      896       \n",
            "                                                                 \n",
            " max_pooling2d (MaxPooling2  (None, 75, 75, 32)        0         \n",
            " D)                                                              \n",
            "                                                                 \n",
            " conv2d_1 (Conv2D)           (None, 75, 75, 64)        18496     \n",
            "                                                                 \n",
            " max_pooling2d_1 (MaxPoolin  (None, 37, 37, 64)        0         \n",
            " g2D)                                                            \n",
            "                                                                 \n",
            " conv2d_2 (Conv2D)           (None, 37, 37, 128)       73856     \n",
            "                                                                 \n",
            " max_pooling2d_2 (MaxPoolin  (None, 18, 18, 128)       0         \n",
            " g2D)                                                            \n",
            "                                                                 \n",
            " flatten (Flatten)           (None, 41472)             0         \n",
            "                                                                 \n",
            " dense (Dense)               (None, 256)               10617088  \n",
            "                                                                 \n",
            " dropout (Dropout)           (None, 256)               0         \n",
            "                                                                 \n",
            " dense_1 (Dense)             (None, 128)               32896     \n",
            "                                                                 \n",
            " dropout_1 (Dropout)         (None, 128)               0         \n",
            "                                                                 \n",
            " dense_2 (Dense)             (None, 6)                 774       \n",
            "                                                                 \n",
            "=================================================================\n",
            "Total params: 10744006 (40.99 MB)\n",
            "Trainable params: 10744006 (40.99 MB)\n",
            "Non-trainable params: 0 (0.00 Byte)\n",
            "_________________________________________________________________\n"
          ]
        }
      ],
      "source": [
        "model.summary()"
      ]
    },
    {
      "cell_type": "code",
      "execution_count": null,
      "metadata": {
        "colab": {
          "base_uri": "https://localhost:8080/"
        },
        "id": "kHhzQEeAQq-W",
        "outputId": "858b2f4a-5553-45a4-87b3-d5d56cf1069b"
      },
      "outputs": [
        {
          "name": "stdout",
          "output_type": "stream",
          "text": [
            "Epoch 1/10\n"
          ]
        },
        {
          "name": "stderr",
          "output_type": "stream",
          "text": [
            "/usr/local/lib/python3.10/dist-packages/keras/src/backend.py:5729: UserWarning: \"`sparse_categorical_crossentropy` received `from_logits=True`, but the `output` argument was produced by a Softmax activation and thus does not represent logits. Was this intended?\n",
            "  output, from_logits = _get_logits(\n"
          ]
        },
        {
          "name": "stdout",
          "output_type": "stream",
          "text": [
            "657/657 [==============================] - 38s 38ms/step - loss: 0.1492 - accuracy: 0.9486 - val_loss: 0.0127 - val_accuracy: 0.9967\n",
            "Epoch 2/10\n",
            "657/657 [==============================] - 24s 36ms/step - loss: 0.0315 - accuracy: 0.9924 - val_loss: 0.0097 - val_accuracy: 0.9977\n",
            "Epoch 3/10\n",
            "657/657 [==============================] - 24s 36ms/step - loss: 0.0241 - accuracy: 0.9933 - val_loss: 0.0132 - val_accuracy: 0.9972\n",
            "Epoch 4/10\n",
            "657/657 [==============================] - 23s 34ms/step - loss: 0.0226 - accuracy: 0.9947 - val_loss: 0.0078 - val_accuracy: 0.9980\n",
            "Epoch 5/10\n",
            "657/657 [==============================] - 26s 40ms/step - loss: 0.0091 - accuracy: 0.9974 - val_loss: 0.0076 - val_accuracy: 0.9975\n",
            "Epoch 6/10\n",
            "657/657 [==============================] - 23s 34ms/step - loss: 0.0116 - accuracy: 0.9966 - val_loss: 0.0140 - val_accuracy: 0.9975\n",
            "Epoch 7/10\n",
            "657/657 [==============================] - 23s 34ms/step - loss: 0.0090 - accuracy: 0.9977 - val_loss: 0.0360 - val_accuracy: 0.9942\n",
            "Epoch 8/10\n",
            "657/657 [==============================] - 26s 39ms/step - loss: 0.0176 - accuracy: 0.9958 - val_loss: 0.0097 - val_accuracy: 0.9978\n",
            "Epoch 9/10\n",
            "657/657 [==============================] - 23s 34ms/step - loss: 0.0080 - accuracy: 0.9976 - val_loss: 0.0148 - val_accuracy: 0.9978\n",
            "Epoch 10/10\n",
            "657/657 [==============================] - 25s 38ms/step - loss: 0.0204 - accuracy: 0.9962 - val_loss: 0.0184 - val_accuracy: 0.9970\n"
          ]
        }
      ],
      "source": [
        "#TRAINING\n",
        "#The following model was first trained with 20 epochs then it colab crashed at the 18th epoch. The model worked with 10 epochs\n",
        "epochs= 10\n",
        "history = model.fit(\n",
        "  train,\n",
        "  validation_data=val,\n",
        "  epochs=epochs\n",
        ")"
      ]
    },
    {
      "cell_type": "code",
      "execution_count": null,
      "metadata": {
        "colab": {
          "base_uri": "https://localhost:8080/",
          "height": 788
        },
        "id": "ULQ7JawfgRxJ",
        "outputId": "d869d594-97d4-45cf-a5d1-2cb1d5d519c3"
      },
      "outputs": [
        {
          "name": "stdout",
          "output_type": "stream",
          "text": [
            "accuracy:  [0.9486190676689148, 0.9923809766769409, 0.9933333396911621, 0.9946666955947876, 0.9974285960197449, 0.9966190457344055, 0.9976666569709778, 0.9957619309425354, 0.9976190328598022, 0.9961904883384705]\n",
            "val accuracy:  [0.996666669845581, 0.9976666569709778, 0.9971666932106018, 0.9980000257492065, 0.9975000023841858, 0.9975000023841858, 0.9941666722297668, 0.9978333115577698, 0.9978333115577698, 0.996999979019165]\n",
            "loss:  [0.14924558997154236, 0.031520821154117584, 0.024141322821378708, 0.022561319172382355, 0.009137543849647045, 0.01161198876798153, 0.009031887166202068, 0.01762758195400238, 0.007979667745530605, 0.020351674407720566]\n",
            "val loss:  [0.01265132799744606, 0.009743550792336464, 0.013243090361356735, 0.007790159899741411, 0.00764572573825717, 0.014020475558936596, 0.03601235896348953, 0.009686301462352276, 0.014774303883314133, 0.018366964533925056]\n"
          ]
        },
        {
          "data": {
            "image/png": "[encoded data removed]",
            "text/plain": [
              "<Figure size 800x800 with 2 Axes>"
            ]
          },
          "metadata": {},
          "output_type": "display_data"
        }
      ],
      "source": [
        "# Extracting and plotting accuracy and loss metrics from the training history\n",
        "acc = history.history['accuracy']\n",
        "print(\"accuracy: \", acc)\n",
        "val_acc = history.history['val_accuracy']\n",
        "print(\"val accuracy: \", val_acc)\n",
        "\n",
        "loss = history.history['loss']\n",
        "print(\"loss: \", loss)\n",
        "\n",
        "val_loss = history.history['val_loss']\n",
        "print(\"val loss: \", val_loss)\n",
        "\n",
        "epochs_range = range(epochs)\n",
        "\n",
        "# Plotting accuracy\n",
        "plt.figure(figsize=(8, 8))\n",
        "plt.subplot(1, 2, 1)\n",
        "plt.plot(epochs_range, acc, label='Training Accuracy')\n",
        "plt.plot(epochs_range, val_acc, label='Validation Accuracy')\n",
        "plt.legend(loc='lower right')\n",
        "plt.title('Training and Validation Accuracy')\n",
        "\n",
        "# Plotting loss\n",
        "plt.subplot(1, 2, 2)\n",
        "plt.plot(epochs_range, loss, label='Training Loss')\n",
        "plt.plot(epochs_range, val_loss, label='Validation Loss')\n",
        "plt.legend(loc='upper right')\n",
        "plt.title('Training and Validation Loss')\n",
        "\n",
        "plt.show()\n"
      ]
    },
    {
      "cell_type": "code",
      "execution_count": null,
      "metadata": {
        "colab": {
          "base_uri": "https://localhost:8080/"
        },
        "id": "pVaQQmRHRCE-",
        "outputId": "9fb6c869-c136-4b5b-91e6-733e8b591dd6"
      },
      "outputs": [
        {
          "name": "stdout",
          "output_type": "stream",
          "text": [
            "94/94 [==============================] - 1s 15ms/step - loss: 0.0156 - accuracy: 0.9977\n",
            "Test Loss: 0.01557239145040512\n",
            "Test Accuracy: 0.9976666569709778\n"
          ]
        }
      ],
      "source": [
        "# Evaluate the model on the test set\n",
        "test_results = model.evaluate(test)\n",
        "\n",
        "# Print the test results (loss and accuracy)\n",
        "print(\"Test Loss:\", test_results[0])\n",
        "print(\"Test Accuracy:\", test_results[1])"
      ]
    },
    {
      "cell_type": "code",
      "execution_count": null,
      "metadata": {
        "id": "q5-YJh1Nrswl"
      },
      "outputs": [],
      "source": [
        "# Define Sequential model for the 2nd model with hypertuned parameters\n",
        "model = Sequential([\n",
        "    layers.Rescaling(1./255, input_shape=(img_height, img_width, 3)),  # Rescale pixel values to [0,1]\n",
        "\n",
        "    # Convolutional Block 1\n",
        "    layers.Conv2D(64, 3, padding='same', activation='relu'),  # 64 filters, 3x3 kernel, 'same' padding, ReLU activation\n",
        "    layers.BatchNormalization(),  # Batch normalization for stabilizing and accelerating training\n",
        "    layers.MaxPooling2D(),  # Max pooling layer\n",
        "\n",
        "    # Convolutional Block 2\n",
        "    layers.Conv2D(128, 3, padding='same', activation='relu'),  # 128 filters, 3x3 kernel, 'same' padding, ReLU activation\n",
        "    layers.BatchNormalization(),  # Batch normalization for stabilizing and accelerating training\n",
        "    layers.MaxPooling2D(),  # Max pooling layer\n",
        "\n",
        "    # Convolutional Block 3\n",
        "    layers.Conv2D(256, 3, padding='same', activation='relu'),  # 256 filters, 3x3 kernel, 'same' padding, ReLU activation\n",
        "    layers.BatchNormalization(),  # Batch normalization for stabilizing and accelerating training\n",
        "    layers.MaxPooling2D(),  # Max pooling layer\n",
        "\n",
        "    layers.Flatten(),  # Flatten the output for the fully connected layers\n",
        "\n",
        "    # Fully Connected Layers\n",
        "    layers.Dense(512, activation='relu'),  # 512 units, ReLU activation\n",
        "    layers.Dropout(0.5),  # Dropout layer for regularization\n",
        "\n",
        "    layers.Dense(256, activation='relu'),  # 256 units, ReLU activation\n",
        "    layers.Dropout(0.5),  # Dropout layer for regularization\n",
        "\n",
        "    layers.Dense(num_classes, activation='softmax')  # Output layer with softmax activation\n",
        "])\n"
      ]
    },
    {
      "cell_type": "code",
      "execution_count": null,
      "metadata": {
        "id": "El97ZaVwW9BF"
      },
      "outputs": [],
      "source": [
        "model.compile(optimizer='adam', loss=tf.keras.losses.SparseCategoricalCrossentropy(from_logits=True), metrics=['accuracy'])"
      ]
    },
    {
      "cell_type": "code",
      "execution_count": null,
      "metadata": {
        "colab": {
          "base_uri": "https://localhost:8080/"
        },
        "id": "x8K8zQxY308k",
        "outputId": "402a7df9-87df-48ea-f946-903864b71514"
      },
      "outputs": [
        {
          "name": "stdout",
          "output_type": "stream",
          "text": [
            "Model: \"sequential_1\"\n",
            "_________________________________________________________________\n",
            " Layer (type)                Output Shape              Param #   \n",
            "=================================================================\n",
            " rescaling_1 (Rescaling)     (None, 150, 150, 3)       0         \n",
            "                                                                 \n",
            " conv2d_3 (Conv2D)           (None, 150, 150, 64)      1792      \n",
            "                                                                 \n",
            " batch_normalization (Batch  (None, 150, 150, 64)      256       \n",
            " Normalization)                                                  \n",
            "                                                                 \n",
            " max_pooling2d_3 (MaxPoolin  (None, 75, 75, 64)        0         \n",
            " g2D)                                                            \n",
            "                                                                 \n",
            " conv2d_4 (Conv2D)           (None, 75, 75, 128)       73856     \n",
            "                                                                 \n",
            " batch_normalization_1 (Bat  (None, 75, 75, 128)       512       \n",
            " chNormalization)                                                \n",
            "                                                                 \n",
            " max_pooling2d_4 (MaxPoolin  (None, 37, 37, 128)       0         \n",
            " g2D)                                                            \n",
            "                                                                 \n",
            " conv2d_5 (Conv2D)           (None, 37, 37, 256)       295168    \n",
            "                                                                 \n",
            " batch_normalization_2 (Bat  (None, 37, 37, 256)       1024      \n",
            " chNormalization)                                                \n",
            "                                                                 \n",
            " max_pooling2d_5 (MaxPoolin  (None, 18, 18, 256)       0         \n",
            " g2D)                                                            \n",
            "                                                                 \n",
            " flatten_1 (Flatten)         (None, 82944)             0         \n",
            "                                                                 \n",
            " dense_3 (Dense)             (None, 512)               42467840  \n",
            "                                                                 \n",
            " dropout_2 (Dropout)         (None, 512)               0         \n",
            "                                                                 \n",
            " dense_4 (Dense)             (None, 256)               131328    \n",
            "                                                                 \n",
            " dropout_3 (Dropout)         (None, 256)               0         \n",
            "                                                                 \n",
            " dense_5 (Dense)             (None, 6)                 1542      \n",
            "                                                                 \n",
            "=================================================================\n",
            "Total params: 42973318 (163.93 MB)\n",
            "Trainable params: 42972422 (163.93 MB)\n",
            "Non-trainable params: 896 (3.50 KB)\n",
            "_________________________________________________________________\n"
          ]
        }
      ],
      "source": [
        "model.summary()"
      ]
    },
    {
      "cell_type": "code",
      "execution_count": null,
      "metadata": {
        "colab": {
          "background_save": true,
          "base_uri": "https://localhost:8080/"
        },
        "id": "8iNNb8Ulrv7N",
        "outputId": "48b53f64-62b0-470e-cb67-ec4d95712b06"
      },
      "outputs": [
        {
          "name": "stdout",
          "output_type": "stream",
          "text": [
            "Epoch 1/6\n"
          ]
        },
        {
          "name": "stderr",
          "output_type": "stream",
          "text": [
            "/usr/local/lib/python3.10/dist-packages/keras/src/backend.py:5729: UserWarning: \"`sparse_categorical_crossentropy` received `from_logits=True`, but the `output` argument was produced by a Softmax activation and thus does not represent logits. Was this intended?\n",
            "  output, from_logits = _get_logits(\n"
          ]
        },
        {
          "name": "stdout",
          "output_type": "stream",
          "text": [
            "657/657 [==============================] - 59s 85ms/step - loss: 3.8700 - accuracy: 0.9609 - val_loss: 0.2860 - val_accuracy: 0.9963\n",
            "Epoch 2/6\n",
            "657/657 [==============================] - 55s 83ms/step - loss: 1.6174 - accuracy: 0.9876 - val_loss: 0.2791 - val_accuracy: 0.9973\n",
            "Epoch 3/6\n",
            "657/657 [==============================] - 53s 81ms/step - loss: 1.3970 - accuracy: 0.9905 - val_loss: 0.2382 - val_accuracy: 0.9978\n",
            "Epoch 4/6\n",
            "657/657 [==============================] - 54s 82ms/step - loss: 1.5755 - accuracy: 0.9891 - val_loss: 0.3809 - val_accuracy: 0.9978\n",
            "Epoch 5/6\n",
            "657/657 [==============================] - 54s 82ms/step - loss: 0.5781 - accuracy: 0.9949 - val_loss: 0.3801 - val_accuracy: 0.9967\n",
            "Epoch 6/6\n",
            "657/657 [==============================] - 54s 81ms/step - loss: 0.4847 - accuracy: 0.9940 - val_loss: 0.1919 - val_accuracy: 0.9983\n"
          ]
        }
      ],
      "source": [
        "#the second model was originally ran with 10 epochs however colab failed after the 5th one. The model works with 6.\n",
        "epochs= 6\n",
        "history = model.fit(\n",
        "  train,\n",
        "  validation_data=val,\n",
        "  epochs=epochs\n",
        ")"
      ]
    },
    {
      "cell_type": "code",
      "execution_count": null,
      "metadata": {
        "id": "MCiVWSMsr4gG"
      },
      "outputs": [],
      "source": [
        "# Extracting and plotting accuracy and loss metrics from the training history\n",
        "acc = history.history['accuracy']\n",
        "print(\"accuracy: \", acc)\n",
        "val_acc = history.history['val_accuracy']\n",
        "print(\"val accuracy: \", val_acc)\n",
        "\n",
        "loss = history.history['loss']\n",
        "print(\"loss: \", loss)\n",
        "\n",
        "val_loss = history.history['val_loss']\n",
        "print(\"val loss: \", val_loss)\n",
        "\n",
        "epochs_range = range(epochs)\n",
        "\n",
        "# Plotting accuracy\n",
        "plt.figure(figsize=(8, 8))\n",
        "plt.subplot(1, 2, 1)\n",
        "plt.plot(epochs_range, acc, label='Training Accuracy')\n",
        "plt.plot(epochs_range, val_acc, label='Validation Accuracy')\n",
        "plt.legend(loc='lower right')\n",
        "plt.title('Training and Validation Accuracy')\n",
        "\n",
        "# Plotting loss\n",
        "plt.subplot(1, 2, 2)\n",
        "plt.plot(epochs_range, loss, label='Training Loss')\n",
        "plt.plot(epochs_range, val_loss, label='Validation Loss')\n",
        "plt.legend(loc='upper right')\n",
        "plt.title('Training and Validation Loss')\n",
        "\n",
        "plt.show()\n"
      ]
    },
    {
      "cell_type": "code",
      "execution_count": null,
      "metadata": {
        "id": "YoqpgnbwuBe8"
      },
      "outputs": [],
      "source": [
        "# Evaluate the model on the test set\n",
        "test_results = model.evaluate(test)\n",
        "# Print the test results (loss and accuracy)\n",
        "print(\"Test Loss:\", test_results[0])\n",
        "print(\"Test Accuracy:\", test_results[1])"
      ]
    }
  ],
  "metadata": {
    "accelerator": "GPU",
    "colab": {
      "provenance": [],
      "gpuType": "T4",
      "mount_file_id": "1IL-9X1BymRrYwboafhkXZQHtCR6eMlg_",
      "authorship_tag": "ABX9TyOIFfjCU/NSDs0uHA7QCX8u",
      "include_colab_link": true
    },
    "kernelspec": {
      "display_name": "Python 3",
      "name": "python3"
    },
    "language_info": {
      "name": "python"
    }
  },
  "nbformat": 4,
  "nbformat_minor": 0
}