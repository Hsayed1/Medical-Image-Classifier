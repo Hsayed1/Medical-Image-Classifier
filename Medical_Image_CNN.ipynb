{
  "cells": [
    {
      "cell_type": "markdown",
      "metadata": {
        "id": "view-in-github",
        "colab_type": "text"
      },
      "source": [
        "<a href=\"https://colab.research.google.com/github/Hsayed1/Medical-Mnist-Image-Classifier/blob/main/Medical_Image_CNN.ipynb\" target=\"_parent\"><img src=\"https://colab.research.google.com/assets/colab-badge.svg\" alt=\"Open In Colab\"/></a>"
      ]
    },
    {
      "cell_type": "code",
      "execution_count": null,
      "metadata": {
        "id": "ddvoNdzmRsn1"
      },
      "outputs": [],
      "source": [
        "import zipfile\n",
        "import os\n",
        "import matplotlib.pyplot as plt\n",
        "import numpy as np\n",
        "import PIL\n",
        "import tensorflow as tf\n",
        "%matplotlib inline\n",
        "from tensorflow import keras\n",
        "from tensorflow.keras import layers\n",
        "from tensorflow.keras.models import Sequential\n",
        "from google.colab import drive\n",
        "import shutil\n",
        "from sklearn.metrics import classification_report\n",
        "import random\n",
        "\"\"\"This code loads, preprocesses, and trains a cnn on the medical mnist dataset. 4 experiments were tried in this file and have been reported. Two cnn models were used\"\"\""
      ]
    },
    {
      "cell_type": "code",
      "execution_count": null,
      "metadata": {
        "id": "Zro3BDKE_Qmj"
      },
      "outputs": [],
      "source": [
        "drive.mount('/content/drive')"
      ]
    },
    {
      "cell_type": "code",
      "execution_count": null,
      "metadata": {
        "id": "VBVBcWOWA-aL"
      },
      "outputs": [],
      "source": [
        "##importing data from drive\n",
        "zip_content = zipfile.ZipFile('/content/drive/MyDrive/medicalimages.zip', 'r')\n",
        "zip_content.extractall('data')\n",
        "zip_content.close()"
      ]
    },
    {
      "cell_type": "code",
      "execution_count": null,
      "metadata": {
        "id": "uKzBR5d1E_YQ"
      },
      "outputs": [],
      "source": [
        "data = '/content/data/medicalimages'\n",
        "batch_size = 32\n",
        "img_height = 150\n",
        "img_width = 150"
      ]
    },
    {
      "cell_type": "code",
      "execution_count": null,
      "metadata": {
        "id": "_R_k5KbgcRIV"
      },
      "outputs": [],
      "source": [
        "#randomly sample 5k images from each class because dataset was too large.\n",
        "\n",
        "# Define the class names\n",
        "class_names = ['AbdomenCT', 'BreastMRI', 'CXR', 'ChestCT', 'Hand', 'HeadCT']\n",
        "\n",
        "# Define the target number of images per class\n",
        "images_per_class = 5000\n",
        "\n",
        "# Create a new directory for the reduced dataset\n",
        "reduced_data_path = '/content/data/reduced_medicalimages'\n",
        "os.makedirs(reduced_data_path, exist_ok=True)\n",
        "\n",
        "# Loop through each class\n",
        "for class_name in class_names:\n",
        "    class_path = os.path.join(data, class_name)\n",
        "    target_class_path = os.path.join(reduced_data_path, class_name)\n",
        "\n",
        "    os.makedirs(target_class_path, exist_ok=True)\n",
        "\n",
        "    # List all files in the class directory and shuffle the list to randomize it\n",
        "    class_files = os.listdir(class_path)\n",
        "    random.shuffle(class_files)\n",
        "\n",
        "    # Copy the desired number of randomly selected images (5,000) from the class directory to the reduced dataset directory\n",
        "    for i in range(images_per_class):\n",
        "        file_name = class_files[i]\n",
        "        source_file_path = os.path.join(class_path, file_name)\n",
        "        target_file_path = os.path.join(target_class_path, file_name)\n",
        "        shutil.copyfile(source_file_path, target_file_path)"
      ]
    },
    {
      "cell_type": "code",
      "execution_count": null,
      "metadata": {
        "id": "uOjQi5G1Gw6B"
      },
      "outputs": [],
      "source": [
        "#split into training data\n",
        "train = tf.keras.utils.image_dataset_from_directory(\n",
        "    reduced_data_path,\n",
        "    validation_split=0.3,  # 70% for training\n",
        "    subset=\"training\",\n",
        "    seed=123,\n",
        "    image_size=(img_height, img_width), #resize to 150x150\n",
        "    batch_size=batch_size\n",
        ")\n"
      ]
    },
    {
      "cell_type": "code",
      "execution_count": null,
      "metadata": {
        "id": "6nKt8ZlaHBIr"
      },
      "outputs": [],
      "source": [
        "#split into validation\n",
        "val = tf.keras.utils.image_dataset_from_directory(\n",
        "    reduced_data_path,\n",
        "    validation_split=0.2,  # 20% for validation\n",
        "    subset=\"validation\",\n",
        "    seed=123,\n",
        "    image_size=(img_height, img_width), #resize to 150x150\n",
        "    batch_size=batch_size\n",
        ")"
      ]
    },
    {
      "cell_type": "code",
      "execution_count": null,
      "metadata": {
        "id": "19_u33bsekcI"
      },
      "outputs": [],
      "source": [
        "#split into testing\n",
        "test = tf.keras.utils.image_dataset_from_directory(\n",
        "    reduced_data_path,\n",
        "    validation_split=0.1,  # 10% for testing\n",
        "    subset=\"validation\",  #\n",
        "    seed=123,\n",
        "    image_size=(img_height, img_width), #resize to 150x150\n",
        "    batch_size=batch_size\n",
        ")"
      ]
    },
    {
      "cell_type": "code",
      "execution_count": null,
      "metadata": {
        "id": "bAhDNi5V3tVF"
      },
      "outputs": [],
      "source": [
        "num_classes = len(class_names)"
      ]
    },
    {
      "cell_type": "code",
      "execution_count": null,
      "metadata": {
        "id": "4I7ivcKxPl7P"
      },
      "outputs": [],
      "source": [
        "\n",
        "# Creating a Sequential model for image classification\n",
        "model = Sequential([\n",
        "    # Normalizing pixel values to the range [0,1]\n",
        "    layers.Rescaling(1./255, input_shape=(img_height, img_width, 3)),\n",
        "\n",
        "    # Convolutional layers with relu activation and max pooling for feature extraction\n",
        "    layers.Conv2D(32, 3, padding='same', activation='relu'),\n",
        "    layers.MaxPooling2D(),\n",
        "\n",
        "    layers.Conv2D(64, 3, padding='same', activation='relu'),\n",
        "    layers.MaxPooling2D(),\n",
        "\n",
        "    layers.Conv2D(128, 3, padding='same', activation='relu'),\n",
        "    layers.MaxPooling2D(),\n",
        "\n",
        "    # Flatten layer to prepare for dense layers\n",
        "    layers.Flatten(),\n",
        "\n",
        "    # Dense layers with relu activation and dropout for regularization\n",
        "    layers.Dense(256, activation='relu'),\n",
        "    layers.Dropout(0.5),\n",
        "\n",
        "    layers.Dense(128, activation='relu'),\n",
        "    layers.Dropout(0.5),\n",
        "\n",
        "    # Output layer with softmax activation for multi-class classification\n",
        "    layers.Dense(num_classes, activation='softmax')\n",
        "])\n"
      ]
    },
    {
      "cell_type": "code",
      "execution_count": null,
      "metadata": {
        "id": "5CaSOlFLQP09"
      },
      "outputs": [],
      "source": [
        "# Compiling the model with the Adam optimizer, Sparse Categorical Crossentropy loss,\n",
        "# and accuracy as the evaluation metric\n",
        "model.compile(optimizer='adam', loss=tf.keras.losses.SparseCategoricalCrossentropy(from_logits=True), metrics=['accuracy']\n",
        ")"
      ]
    },
    {
      "cell_type": "code",
      "execution_count": null,
      "metadata": {
        "id": "TBQcBEngQREW"
      },
      "outputs": [],
      "source": [
        "model.summary()"
      ]
    },
    {
      "cell_type": "code",
      "execution_count": null,
      "metadata": {
        "id": "kHhzQEeAQq-W"
      },
      "outputs": [],
      "source": [
        "#TRAINING\n",
        "#The following model was first trained with 20 epochs then it colab crashed at the 18th epoch. The model worked with 10 epochs\n",
        "epochs= 10\n",
        "history = model.fit(\n",
        "  train,\n",
        "  validation_data=val,\n",
        "  epochs=epochs\n",
        ")"
      ]
    },
    {
      "cell_type": "code",
      "execution_count": null,
      "metadata": {
        "id": "ULQ7JawfgRxJ"
      },
      "outputs": [],
      "source": [
        "# Extracting and plotting accuracy and loss metrics from the training history\n",
        "acc = history.history['accuracy']\n",
        "print(\"accuracy: \", acc)\n",
        "val_acc = history.history['val_accuracy']\n",
        "print(\"val accuracy: \", val_acc)\n",
        "\n",
        "loss = history.history['loss']\n",
        "print(\"loss: \", loss)\n",
        "\n",
        "val_loss = history.history['val_loss']\n",
        "print(\"val loss: \", val_loss)\n",
        "\n",
        "epochs_range = range(epochs)\n",
        "\n",
        "# Plotting accuracy\n",
        "plt.figure(figsize=(8, 8))\n",
        "plt.subplot(1, 2, 1)\n",
        "plt.plot(epochs_range, acc, label='Training Accuracy')\n",
        "plt.plot(epochs_range, val_acc, label='Validation Accuracy')\n",
        "plt.legend(loc='lower right')\n",
        "plt.title('Training and Validation Accuracy')\n",
        "\n",
        "# Plotting loss\n",
        "plt.subplot(1, 2, 2)\n",
        "plt.plot(epochs_range, loss, label='Training Loss')\n",
        "plt.plot(epochs_range, val_loss, label='Validation Loss')\n",
        "plt.legend(loc='upper right')\n",
        "plt.title('Training and Validation Loss')\n",
        "\n",
        "plt.show()\n"
      ]
    },
    {
      "cell_type": "code",
      "execution_count": null,
      "metadata": {
        "id": "pVaQQmRHRCE-"
      },
      "outputs": [],
      "source": [
        "# Evaluate the model on the test set\n",
        "test_results = model.evaluate(test)\n",
        "\n",
        "# Print the test results (loss and accuracy)\n",
        "print(\"Test Loss:\", test_results[0])\n",
        "print(\"Test Accuracy:\", test_results[1])"
      ]
    },
    {
      "cell_type": "code",
      "execution_count": null,
      "metadata": {
        "id": "q5-YJh1Nrswl"
      },
      "outputs": [],
      "source": [
        "# Define Sequential model for the 2nd model with hypertuned parameters\n",
        "model = Sequential([\n",
        "    layers.Rescaling(1./255, input_shape=(img_height, img_width, 3)),  # Rescale pixel values to [0,1]\n",
        "\n",
        "    # Convolutional Block 1\n",
        "    layers.Conv2D(64, 3, padding='same', activation='relu'),  # 64 filters, 3x3 kernel, 'same' padding, ReLU activation\n",
        "    layers.BatchNormalization(),  # Batch normalization for stabilizing and accelerating training\n",
        "    layers.MaxPooling2D(),  # Max pooling layer\n",
        "\n",
        "    # Convolutional Block 2\n",
        "    layers.Conv2D(128, 3, padding='same', activation='relu'),  # 128 filters, 3x3 kernel, 'same' padding, ReLU activation\n",
        "    layers.BatchNormalization(),  # Batch normalization for stabilizing and accelerating training\n",
        "    layers.MaxPooling2D(),  # Max pooling layer\n",
        "\n",
        "    # Convolutional Block 3\n",
        "    layers.Conv2D(256, 3, padding='same', activation='relu'),  # 256 filters, 3x3 kernel, 'same' padding, ReLU activation\n",
        "    layers.BatchNormalization(),  # Batch normalization for stabilizing and accelerating training\n",
        "    layers.MaxPooling2D(),  # Max pooling layer\n",
        "\n",
        "    layers.Flatten(),  # Flatten the output for the fully connected layers\n",
        "\n",
        "    # Fully Connected Layers\n",
        "    layers.Dense(512, activation='relu'),  # 512 units, ReLU activation\n",
        "    layers.Dropout(0.5),  # Dropout layer for regularization\n",
        "\n",
        "    layers.Dense(256, activation='relu'),  # 256 units, ReLU activation\n",
        "    layers.Dropout(0.5),  # Dropout layer for regularization\n",
        "\n",
        "    layers.Dense(num_classes, activation='softmax')  # Output layer with softmax activation\n",
        "])\n"
      ]
    },
    {
      "cell_type": "code",
      "execution_count": null,
      "metadata": {
        "id": "El97ZaVwW9BF"
      },
      "outputs": [],
      "source": [
        "model.compile(optimizer='adam', loss=tf.keras.losses.SparseCategoricalCrossentropy(from_logits=True), metrics=['accuracy'])"
      ]
    },
    {
      "cell_type": "code",
      "execution_count": null,
      "metadata": {
        "id": "x8K8zQxY308k"
      },
      "outputs": [],
      "source": [
        "model.summary()"
      ]
    },
    {
      "cell_type": "code",
      "execution_count": null,
      "metadata": {
        "colab": {
          "background_save": true
        },
        "id": "8iNNb8Ulrv7N"
      },
      "outputs": [],
      "source": [
        "#the second model was originally ran with 10 epochs however colab failed after the 5th one. The model works with 6.\n",
        "epochs= 6\n",
        "history = model.fit(\n",
        "  train,\n",
        "  validation_data=val,\n",
        "  epochs=epochs\n",
        ")"
      ]
    },
    {
      "cell_type": "code",
      "execution_count": null,
      "metadata": {
        "id": "MCiVWSMsr4gG"
      },
      "outputs": [],
      "source": [
        "# Extracting and plotting accuracy and loss metrics from the training history\n",
        "acc = history.history['accuracy']\n",
        "print(\"accuracy: \", acc)\n",
        "val_acc = history.history['val_accuracy']\n",
        "print(\"val accuracy: \", val_acc)\n",
        "\n",
        "loss = history.history['loss']\n",
        "print(\"loss: \", loss)\n",
        "\n",
        "val_loss = history.history['val_loss']\n",
        "print(\"val loss: \", val_loss)\n",
        "\n",
        "epochs_range = range(epochs)\n",
        "\n",
        "# Plotting accuracy\n",
        "plt.figure(figsize=(8, 8))\n",
        "plt.subplot(1, 2, 1)\n",
        "plt.plot(epochs_range, acc, label='Training Accuracy')\n",
        "plt.plot(epochs_range, val_acc, label='Validation Accuracy')\n",
        "plt.legend(loc='lower right')\n",
        "plt.title('Training and Validation Accuracy')\n",
        "\n",
        "# Plotting loss\n",
        "plt.subplot(1, 2, 2)\n",
        "plt.plot(epochs_range, loss, label='Training Loss')\n",
        "plt.plot(epochs_range, val_loss, label='Validation Loss')\n",
        "plt.legend(loc='upper right')\n",
        "plt.title('Training and Validation Loss')\n",
        "\n",
        "plt.show()\n"
      ]
    },
    {
      "cell_type": "code",
      "execution_count": null,
      "metadata": {
        "id": "YoqpgnbwuBe8"
      },
      "outputs": [],
      "source": [
        "# Evaluate the model on the test set\n",
        "test_results = model.evaluate(test)\n",
        "# Print the test results (loss and accuracy)\n",
        "print(\"Test Loss:\", test_results[0])\n",
        "print(\"Test Accuracy:\", test_results[1])"
      ]
    }
  ],
  "metadata": {
    "accelerator": "GPU",
    "colab": {
      "provenance": [],
      "gpuType": "T4",
      "mount_file_id": "1IL-9X1BymRrYwboafhkXZQHtCR6eMlg_",
      "authorship_tag": "ABX9TyOIFfjCU/NSDs0uHA7QCX8u",
      "include_colab_link": true
    },
    "kernelspec": {
      "display_name": "Python 3",
      "name": "python3"
    },
    "language_info": {
      "name": "python"
    }
  },
  "nbformat": 4,
  "nbformat_minor": 0
}